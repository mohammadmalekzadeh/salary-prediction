{
 "cells": [
  {
   "cell_type": "markdown",
   "id": "58a72090",
   "metadata": {},
   "source": [
    "### Importing"
   ]
  },
  {
   "cell_type": "code",
   "execution_count": 202,
   "id": "911734db",
   "metadata": {},
   "outputs": [],
   "source": [
    "import pandas as pd\n",
    "import numpy as np\n",
    "import datetime\n",
    "from sklearn.preprocessing import LabelEncoder\n",
    "from sklearn.preprocessing import StandardScaler"
   ]
  },
  {
   "cell_type": "markdown",
   "id": "e2a72373",
   "metadata": {},
   "source": [
    "### Read datafram"
   ]
  },
  {
   "cell_type": "code",
   "execution_count": 203,
   "id": "5d61c1eb",
   "metadata": {},
   "outputs": [
    {
     "data": {
      "text/html": [
       "<div>\n",
       "<style scoped>\n",
       "    .dataframe tbody tr th:only-of-type {\n",
       "        vertical-align: middle;\n",
       "    }\n",
       "\n",
       "    .dataframe tbody tr th {\n",
       "        vertical-align: top;\n",
       "    }\n",
       "\n",
       "    .dataframe thead th {\n",
       "        text-align: right;\n",
       "    }\n",
       "</style>\n",
       "<table border=\"1\" class=\"dataframe\">\n",
       "  <thead>\n",
       "    <tr style=\"text-align: right;\">\n",
       "      <th></th>\n",
       "      <th>Id</th>\n",
       "      <th>Fullname</th>\n",
       "      <th>Job_title</th>\n",
       "      <th>Department</th>\n",
       "      <th>Business_unit</th>\n",
       "      <th>Gender</th>\n",
       "      <th>Ethnicity</th>\n",
       "      <th>Age</th>\n",
       "      <th>Hiring_date</th>\n",
       "      <th>Annual_salary</th>\n",
       "      <th>Award</th>\n",
       "      <th>Country</th>\n",
       "      <th>City</th>\n",
       "    </tr>\n",
       "  </thead>\n",
       "  <tbody>\n",
       "    <tr>\n",
       "      <th>0</th>\n",
       "      <td>E02978</td>\n",
       "      <td>Gabriella Cruz</td>\n",
       "      <td>Analyst</td>\n",
       "      <td>Marketing</td>\n",
       "      <td>Specialized Products</td>\n",
       "      <td>Female</td>\n",
       "      <td>Latin</td>\n",
       "      <td>39</td>\n",
       "      <td>2020-08-13</td>\n",
       "      <td>76759</td>\n",
       "      <td>0.00</td>\n",
       "      <td>USA</td>\n",
       "      <td>Miami</td>\n",
       "    </tr>\n",
       "    <tr>\n",
       "      <th>1</th>\n",
       "      <td>E02670</td>\n",
       "      <td>Dominic Cheng</td>\n",
       "      <td>Director</td>\n",
       "      <td>Engineering</td>\n",
       "      <td>Large Companies</td>\n",
       "      <td>Male</td>\n",
       "      <td>Asian</td>\n",
       "      <td>53</td>\n",
       "      <td>2015-06-19</td>\n",
       "      <td>168142</td>\n",
       "      <td>0.27</td>\n",
       "      <td>China</td>\n",
       "      <td>Beijing</td>\n",
       "    </tr>\n",
       "    <tr>\n",
       "      <th>2</th>\n",
       "      <td>E02838</td>\n",
       "      <td>Maria Barnes</td>\n",
       "      <td>Analyst</td>\n",
       "      <td>Marketing</td>\n",
       "      <td>Large Companies</td>\n",
       "      <td>Female</td>\n",
       "      <td>Asian</td>\n",
       "      <td>64</td>\n",
       "      <td>2003-05-13</td>\n",
       "      <td>76506</td>\n",
       "      <td>0.00</td>\n",
       "      <td>USA</td>\n",
       "      <td>Austin</td>\n",
       "    </tr>\n",
       "    <tr>\n",
       "      <th>3</th>\n",
       "      <td>E02481</td>\n",
       "      <td>Caroline Wong</td>\n",
       "      <td>Analyst</td>\n",
       "      <td>Accounting</td>\n",
       "      <td>Research and Development</td>\n",
       "      <td>Female</td>\n",
       "      <td>Asian</td>\n",
       "      <td>37</td>\n",
       "      <td>2017-03-08</td>\n",
       "      <td>40508</td>\n",
       "      <td>0.00</td>\n",
       "      <td>China</td>\n",
       "      <td>Beijing</td>\n",
       "    </tr>\n",
       "    <tr>\n",
       "      <th>4</th>\n",
       "      <td>E02085</td>\n",
       "      <td>Anthony Baker</td>\n",
       "      <td>System Manager</td>\n",
       "      <td>IT</td>\n",
       "      <td>Production</td>\n",
       "      <td>Male</td>\n",
       "      <td>Asian</td>\n",
       "      <td>31</td>\n",
       "      <td>2021-06-03</td>\n",
       "      <td>99937</td>\n",
       "      <td>0.00</td>\n",
       "      <td>USA</td>\n",
       "      <td>Phoenix</td>\n",
       "    </tr>\n",
       "  </tbody>\n",
       "</table>\n",
       "</div>"
      ],
      "text/plain": [
       "       Id        Fullname       Job_title   Department  \\\n",
       "0  E02978  Gabriella Cruz         Analyst    Marketing   \n",
       "1  E02670   Dominic Cheng        Director  Engineering   \n",
       "2  E02838    Maria Barnes         Analyst    Marketing   \n",
       "3  E02481   Caroline Wong         Analyst   Accounting   \n",
       "4  E02085   Anthony Baker  System Manager           IT   \n",
       "\n",
       "              Business_unit  Gender Ethnicity  Age Hiring_date  Annual_salary  \\\n",
       "0      Specialized Products  Female     Latin   39  2020-08-13          76759   \n",
       "1           Large Companies    Male     Asian   53  2015-06-19         168142   \n",
       "2           Large Companies  Female     Asian   64  2003-05-13          76506   \n",
       "3  Research and Development  Female     Asian   37  2017-03-08          40508   \n",
       "4                Production    Male     Asian   31  2021-06-03          99937   \n",
       "\n",
       "   Award Country     City  \n",
       "0   0.00     USA    Miami  \n",
       "1   0.27   China  Beijing  \n",
       "2   0.00     USA   Austin  \n",
       "3   0.00   China  Beijing  \n",
       "4   0.00     USA  Phoenix  "
      ]
     },
     "execution_count": 203,
     "metadata": {},
     "output_type": "execute_result"
    }
   ],
   "source": [
    "train_data = pd.read_csv('../data/train_data.csv')\n",
    "test_data = pd.read_csv('../data/test_dara.csv')\n",
    "train_data.head()"
   ]
  },
  {
   "cell_type": "code",
   "execution_count": 204,
   "id": "f7502e39",
   "metadata": {},
   "outputs": [
    {
     "data": {
      "text/plain": [
       "Id               0\n",
       "Fullname         0\n",
       "Job_title        0\n",
       "Department       0\n",
       "Business_unit    0\n",
       "Gender           0\n",
       "Ethnicity        0\n",
       "Age              0\n",
       "Hiring_date      0\n",
       "Annual_salary    0\n",
       "Award            0\n",
       "Country          0\n",
       "City             0\n",
       "dtype: int64"
      ]
     },
     "execution_count": 204,
     "metadata": {},
     "output_type": "execute_result"
    }
   ],
   "source": [
    "train_data.isnull().sum()"
   ]
  },
  {
   "cell_type": "markdown",
   "id": "6adb41d4",
   "metadata": {},
   "source": [
    "### Dropping extra columns"
   ]
  },
  {
   "cell_type": "code",
   "execution_count": 205,
   "id": "61c95fe6",
   "metadata": {},
   "outputs": [],
   "source": [
    "extra_col = ['Id', 'Fullname']\n",
    "\n",
    "train_data.drop(columns=extra_col, inplace=True)\n",
    "test_data.drop(columns=extra_col, inplace=True)"
   ]
  },
  {
   "cell_type": "markdown",
   "id": "f9e92194",
   "metadata": {},
   "source": [
    "### Add new feature"
   ]
  },
  {
   "cell_type": "code",
   "execution_count": 206,
   "id": "1010272b",
   "metadata": {},
   "outputs": [],
   "source": [
    "today = datetime.date.today().year\n",
    "\n",
    "train_data['Hiring_year'] = pd.to_datetime(train_data['Hiring_date']).dt.year\n",
    "train_data['Work_duration'] = today - train_data['Hiring_year']\n",
    "train_data.drop(columns='Hiring_date', inplace=True)\n",
    "\n",
    "test_data['Hiring_year'] = pd.to_datetime(test_data['Hiring_date']).dt.year\n",
    "test_data['Work_duration'] = today - test_data['Hiring_year']\n",
    "test_data.drop(columns='Hiring_date', inplace=True)"
   ]
  },
  {
   "cell_type": "code",
   "execution_count": 207,
   "id": "639185d4",
   "metadata": {},
   "outputs": [],
   "source": [
    "mean_salary_by_country = train_data.groupby('Country')['Annual_salary'].mean().round(2).to_dict()\n",
    "mean_salary_by_city = train_data.groupby('City')['Annual_salary'].mean().round(2).to_dict()\n",
    "\n",
    "train_data['mean_salary_by_country'] = train_data['Country'].map(mean_salary_by_country)\n",
    "train_data['mean_salary_by_city'] = train_data['City'].map(mean_salary_by_city)\n",
    "test_data['mean_salary_by_country'] = test_data['Country'].map(mean_salary_by_country)\n",
    "test_data['mean_salary_by_city'] = test_data['City'].map(mean_salary_by_city)"
   ]
  },
  {
   "cell_type": "code",
   "execution_count": 208,
   "id": "27476592",
   "metadata": {},
   "outputs": [],
   "source": [
    "mean_salary_by_job_title = train_data.groupby('Job_title')['Annual_salary'].mean().round(2).to_dict()\n",
    "\n",
    "train_data['mean_salary_by_job_title'] = train_data['Job_title'].map(mean_salary_by_job_title)\n",
    "test_data['mean_salary_by_job_title'] = test_data['Job_title'].map(mean_salary_by_job_title)"
   ]
  },
  {
   "cell_type": "markdown",
   "id": "6eeedd51",
   "metadata": {},
   "source": [
    "### Normalization"
   ]
  },
  {
   "cell_type": "code",
   "execution_count": 209,
   "id": "9961b8f6",
   "metadata": {},
   "outputs": [],
   "source": [
    "ss = StandardScaler()\n",
    "\n",
    "train_data['Award'] = ss.fit_transform(train_data[['Award']])\n",
    "test_data['Award'] = ss.transform(test_data[['Award']])"
   ]
  },
  {
   "cell_type": "markdown",
   "id": "aca843cd",
   "metadata": {},
   "source": [
    "### Save the clean data before label encoding"
   ]
  },
  {
   "cell_type": "code",
   "execution_count": 210,
   "id": "b5fca51f",
   "metadata": {},
   "outputs": [],
   "source": [
    "train_data.to_csv('../data/train_clean_data.csv', index=False)\n",
    "test_data.to_csv('../data/test_clean_data.csv', index=False)"
   ]
  },
  {
   "cell_type": "markdown",
   "id": "8b3092e4",
   "metadata": {},
   "source": [
    "### Label Encoding"
   ]
  },
  {
   "cell_type": "code",
   "execution_count": 211,
   "id": "7d8a6d38",
   "metadata": {},
   "outputs": [
    {
     "name": "stderr",
     "output_type": "stream",
     "text": [
      "c:\\Users\\teknik\\AppData\\Local\\Programs\\Python\\Python311\\Lib\\site-packages\\sklearn\\preprocessing\\_label.py:110: DataConversionWarning: A column-vector y was passed when a 1d array was expected. Please change the shape of y to (n_samples, ), for example using ravel().\n",
      "  y = column_or_1d(y, warn=True)\n",
      "c:\\Users\\teknik\\AppData\\Local\\Programs\\Python\\Python311\\Lib\\site-packages\\sklearn\\preprocessing\\_label.py:129: DataConversionWarning: A column-vector y was passed when a 1d array was expected. Please change the shape of y to (n_samples, ), for example using ravel().\n",
      "  y = column_or_1d(y, dtype=self.classes_.dtype, warn=True)\n",
      "c:\\Users\\teknik\\AppData\\Local\\Programs\\Python\\Python311\\Lib\\site-packages\\sklearn\\preprocessing\\_label.py:110: DataConversionWarning: A column-vector y was passed when a 1d array was expected. Please change the shape of y to (n_samples, ), for example using ravel().\n",
      "  y = column_or_1d(y, warn=True)\n",
      "c:\\Users\\teknik\\AppData\\Local\\Programs\\Python\\Python311\\Lib\\site-packages\\sklearn\\preprocessing\\_label.py:129: DataConversionWarning: A column-vector y was passed when a 1d array was expected. Please change the shape of y to (n_samples, ), for example using ravel().\n",
      "  y = column_or_1d(y, dtype=self.classes_.dtype, warn=True)\n",
      "c:\\Users\\teknik\\AppData\\Local\\Programs\\Python\\Python311\\Lib\\site-packages\\sklearn\\preprocessing\\_label.py:110: DataConversionWarning: A column-vector y was passed when a 1d array was expected. Please change the shape of y to (n_samples, ), for example using ravel().\n",
      "  y = column_or_1d(y, warn=True)\n",
      "c:\\Users\\teknik\\AppData\\Local\\Programs\\Python\\Python311\\Lib\\site-packages\\sklearn\\preprocessing\\_label.py:129: DataConversionWarning: A column-vector y was passed when a 1d array was expected. Please change the shape of y to (n_samples, ), for example using ravel().\n",
      "  y = column_or_1d(y, dtype=self.classes_.dtype, warn=True)\n",
      "c:\\Users\\teknik\\AppData\\Local\\Programs\\Python\\Python311\\Lib\\site-packages\\sklearn\\preprocessing\\_label.py:110: DataConversionWarning: A column-vector y was passed when a 1d array was expected. Please change the shape of y to (n_samples, ), for example using ravel().\n",
      "  y = column_or_1d(y, warn=True)\n",
      "c:\\Users\\teknik\\AppData\\Local\\Programs\\Python\\Python311\\Lib\\site-packages\\sklearn\\preprocessing\\_label.py:129: DataConversionWarning: A column-vector y was passed when a 1d array was expected. Please change the shape of y to (n_samples, ), for example using ravel().\n",
      "  y = column_or_1d(y, dtype=self.classes_.dtype, warn=True)\n",
      "c:\\Users\\teknik\\AppData\\Local\\Programs\\Python\\Python311\\Lib\\site-packages\\sklearn\\preprocessing\\_label.py:110: DataConversionWarning: A column-vector y was passed when a 1d array was expected. Please change the shape of y to (n_samples, ), for example using ravel().\n",
      "  y = column_or_1d(y, warn=True)\n",
      "c:\\Users\\teknik\\AppData\\Local\\Programs\\Python\\Python311\\Lib\\site-packages\\sklearn\\preprocessing\\_label.py:129: DataConversionWarning: A column-vector y was passed when a 1d array was expected. Please change the shape of y to (n_samples, ), for example using ravel().\n",
      "  y = column_or_1d(y, dtype=self.classes_.dtype, warn=True)\n",
      "c:\\Users\\teknik\\AppData\\Local\\Programs\\Python\\Python311\\Lib\\site-packages\\sklearn\\preprocessing\\_label.py:110: DataConversionWarning: A column-vector y was passed when a 1d array was expected. Please change the shape of y to (n_samples, ), for example using ravel().\n",
      "  y = column_or_1d(y, warn=True)\n",
      "c:\\Users\\teknik\\AppData\\Local\\Programs\\Python\\Python311\\Lib\\site-packages\\sklearn\\preprocessing\\_label.py:129: DataConversionWarning: A column-vector y was passed when a 1d array was expected. Please change the shape of y to (n_samples, ), for example using ravel().\n",
      "  y = column_or_1d(y, dtype=self.classes_.dtype, warn=True)\n",
      "c:\\Users\\teknik\\AppData\\Local\\Programs\\Python\\Python311\\Lib\\site-packages\\sklearn\\preprocessing\\_label.py:110: DataConversionWarning: A column-vector y was passed when a 1d array was expected. Please change the shape of y to (n_samples, ), for example using ravel().\n",
      "  y = column_or_1d(y, warn=True)\n",
      "c:\\Users\\teknik\\AppData\\Local\\Programs\\Python\\Python311\\Lib\\site-packages\\sklearn\\preprocessing\\_label.py:129: DataConversionWarning: A column-vector y was passed when a 1d array was expected. Please change the shape of y to (n_samples, ), for example using ravel().\n",
      "  y = column_or_1d(y, dtype=self.classes_.dtype, warn=True)\n"
     ]
    }
   ],
   "source": [
    "le = LabelEncoder()\n",
    "\n",
    "le_list = ['Job_title', 'Department', 'Business_unit', 'Gender', 'Ethnicity', 'Country', 'City']\n",
    "\n",
    "for col in le_list:\n",
    "    train_data[col] = le.fit_transform(train_data[[col]])\n",
    "    test_data[col] = le.transform(test_data[[col]])"
   ]
  },
  {
   "cell_type": "markdown",
   "id": "be574c85",
   "metadata": {},
   "source": [
    "### Save the clean and encoding data"
   ]
  },
  {
   "cell_type": "code",
   "execution_count": 212,
   "id": "83e873e3",
   "metadata": {},
   "outputs": [],
   "source": [
    "train_data.to_csv('../data/train_encoding_data.csv', index=False)\n",
    "test_data.to_csv('../data/test_encoding_data.csv', index=False)"
   ]
  }
 ],
 "metadata": {
  "kernelspec": {
   "display_name": "Python 3",
   "language": "python",
   "name": "python3"
  },
  "language_info": {
   "codemirror_mode": {
    "name": "ipython",
    "version": 3
   },
   "file_extension": ".py",
   "mimetype": "text/x-python",
   "name": "python",
   "nbconvert_exporter": "python",
   "pygments_lexer": "ipython3",
   "version": "3.11.2"
  }
 },
 "nbformat": 4,
 "nbformat_minor": 5
}
